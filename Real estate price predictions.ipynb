{
 "cells": [
  {
   "cell_type": "code",
   "execution_count": null,
   "metadata": {
    "executionInfo": {
     "elapsed": 3735,
     "status": "ok",
     "timestamp": 1648199953093,
     "user": {
      "displayName": "surya chand",
      "photoUrl": "https://lh3.googleusercontent.com/a-/AOh14Gg-Fme_28dmglLCT5AjJ1ON49RP3S6bdwnRY1C52w=s64",
      "userId": "05401613132802437293"
     },
     "user_tz": -330
    },
    "id": "q_WHJVON2tLe"
   },
   "outputs": [],
   "source": [
    "from math import sqrt\n",
    "from numpy import concatenate\n",
    "from matplotlib import pyplot as plt\n",
    "import pandas as pd\n",
    "from datetime import datetime\n",
    "from sklearn.preprocessing import MinMaxScaler\n",
    "from sklearn.preprocessing import LabelEncoder\n",
    "from sklearn.metrics import mean_squared_error\n",
    "from keras.models import Sequential\n",
    "from keras.layers import Dense\n",
    "from keras.layers import LSTM\n",
    "import numpy as np\n",
    "import seaborn as sns\n",
    "%matplotlib inline\n",
    "import math\n",
    "from matplotlib.ticker import MaxNLocator\n",
    "plt.style.use('fivethirtyeight')\n",
    "from IPython.display import HTML\n",
    "from subprocess import check_output\n",
    "import matplotlib\n",
    "matplotlib.rcParams['figure.figsize']=(20,10)\n",
    "import warnings \n",
    "warnings.simplefilter('ignore')"
   ]
  },
  {
   "cell_type": "code",
   "execution_count": null,
   "metadata": {
    "executionInfo": {
     "elapsed": 37,
     "status": "ok",
     "timestamp": 1648199953094,
     "user": {
      "displayName": "surya chand",
      "photoUrl": "https://lh3.googleusercontent.com/a-/AOh14Gg-Fme_28dmglLCT5AjJ1ON49RP3S6bdwnRY1C52w=s64",
      "userId": "05401613132802437293"
     },
     "user_tz": -330
    },
    "id": "SY2KvMiA3RhH"
   },
   "outputs": [],
   "source": [
    "#To read data uploaded int0 collab\n",
    "data=pd.read_csv(\"dataset_pric.csv\")\n",
    "Rdata=data.copy()"
   ]
  },
  {
   "cell_type": "code",
   "execution_count": null,
   "metadata": {
    "colab": {
     "base_uri": "https://localhost:8080/",
     "height": 248
    },
    "executionInfo": {
     "elapsed": 36,
     "status": "ok",
     "timestamp": 1648199953094,
     "user": {
      "displayName": "surya chand",
      "photoUrl": "https://lh3.googleusercontent.com/a-/AOh14Gg-Fme_28dmglLCT5AjJ1ON49RP3S6bdwnRY1C52w=s64",
      "userId": "05401613132802437293"
     },
     "user_tz": -330
    },
    "id": "oaVWX-iINGKv",
    "outputId": "49ab529a-598c-4063-cee7-186db57025e0"
   },
   "outputs": [],
   "source": [
    "#To shoe first 5 rows of data\n",
    "data.head()"
   ]
  },
  {
   "cell_type": "code",
   "execution_count": null,
   "metadata": {
    "colab": {
     "base_uri": "https://localhost:8080/",
     "height": 248
    },
    "executionInfo": {
     "elapsed": 35,
     "status": "ok",
     "timestamp": 1648199953094,
     "user": {
      "displayName": "surya chand",
      "photoUrl": "https://lh3.googleusercontent.com/a-/AOh14Gg-Fme_28dmglLCT5AjJ1ON49RP3S6bdwnRY1C52w=s64",
      "userId": "05401613132802437293"
     },
     "user_tz": -330
    },
    "id": "MnhGCXtXN1DN",
    "outputId": "56faa4d3-b738-45a0-d8a1-40e7249d1fb6"
   },
   "outputs": [],
   "source": [
    "#To show last 5 rows of data\n",
    "data.tail()"
   ]
  },
  {
   "cell_type": "code",
   "execution_count": null,
   "metadata": {
    "colab": {
     "base_uri": "https://localhost:8080/"
    },
    "executionInfo": {
     "elapsed": 34,
     "status": "ok",
     "timestamp": 1648199953094,
     "user": {
      "displayName": "surya chand",
      "photoUrl": "https://lh3.googleusercontent.com/a-/AOh14Gg-Fme_28dmglLCT5AjJ1ON49RP3S6bdwnRY1C52w=s64",
      "userId": "05401613132802437293"
     },
     "user_tz": -330
    },
    "id": "ssU0zuXkNLBf",
    "outputId": "90281b91-fd4b-4891-9bf2-c13c701b0df1"
   },
   "outputs": [],
   "source": [
    "#To get no of rows and columns of data\n",
    "data.shape"
   ]
  },
  {
   "cell_type": "code",
   "execution_count": null,
   "metadata": {
    "colab": {
     "base_uri": "https://localhost:8080/"
    },
    "executionInfo": {
     "elapsed": 30,
     "status": "ok",
     "timestamp": 1648199953094,
     "user": {
      "displayName": "surya chand",
      "photoUrl": "https://lh3.googleusercontent.com/a-/AOh14Gg-Fme_28dmglLCT5AjJ1ON49RP3S6bdwnRY1C52w=s64",
      "userId": "05401613132802437293"
     },
     "user_tz": -330
    },
    "id": "Mu8AEVBpNfVd",
    "outputId": "8b685141-5d98-4dac-c2f8-51ab31511359"
   },
   "outputs": [],
   "source": [
    "#To get list of columns in data\n",
    "cols=list(data.columns)\n",
    "cols"
   ]
  },
  {
   "cell_type": "code",
   "execution_count": null,
   "metadata": {
    "executionInfo": {
     "elapsed": 28,
     "status": "ok",
     "timestamp": 1648199953095,
     "user": {
      "displayName": "surya chand",
      "photoUrl": "https://lh3.googleusercontent.com/a-/AOh14Gg-Fme_28dmglLCT5AjJ1ON49RP3S6bdwnRY1C52w=s64",
      "userId": "05401613132802437293"
     },
     "user_tz": -330
    },
    "id": "1FKKjanGN_rY"
   },
   "outputs": [],
   "source": [
    "#Drop the columns not required\n",
    "newdata = data.drop(['area_type','society','balcony','availability'],axis='columns')\n",
    "Rdata=Rdata.dropna(subset=['size','total_sqft'])"
   ]
  },
  {
   "cell_type": "code",
   "execution_count": null,
   "metadata": {
    "colab": {
     "base_uri": "https://localhost:8080/"
    },
    "executionInfo": {
     "elapsed": 28,
     "status": "ok",
     "timestamp": 1648199953095,
     "user": {
      "displayName": "surya chand",
      "photoUrl": "https://lh3.googleusercontent.com/a-/AOh14Gg-Fme_28dmglLCT5AjJ1ON49RP3S6bdwnRY1C52w=s64",
      "userId": "05401613132802437293"
     },
     "user_tz": -330
    },
    "id": "qdkAP7ZCOdnF",
    "outputId": "4de2d7d3-14b1-4fd4-fb47-e1ee7d6b4a1c"
   },
   "outputs": [],
   "source": [
    "#Checking if there are null values\n",
    "newdata.isnull().sum()"
   ]
  },
  {
   "cell_type": "code",
   "execution_count": null,
   "metadata": {
    "colab": {
     "base_uri": "https://localhost:8080/"
    },
    "executionInfo": {
     "elapsed": 25,
     "status": "ok",
     "timestamp": 1648199953095,
     "user": {
      "displayName": "surya chand",
      "photoUrl": "https://lh3.googleusercontent.com/a-/AOh14Gg-Fme_28dmglLCT5AjJ1ON49RP3S6bdwnRY1C52w=s64",
      "userId": "05401613132802437293"
     },
     "user_tz": -330
    },
    "id": "LLP4KvMlOlM1",
    "outputId": "63d11c48-4ea4-4d04-a6f9-016091b63d1c"
   },
   "outputs": [],
   "source": [
    "#shape of new data\n",
    "newdata.shape"
   ]
  },
  {
   "cell_type": "code",
   "execution_count": null,
   "metadata": {
    "executionInfo": {
     "elapsed": 22,
     "status": "ok",
     "timestamp": 1648199953095,
     "user": {
      "displayName": "surya chand",
      "photoUrl": "https://lh3.googleusercontent.com/a-/AOh14Gg-Fme_28dmglLCT5AjJ1ON49RP3S6bdwnRY1C52w=s64",
      "userId": "05401613132802437293"
     },
     "user_tz": -330
    },
    "id": "lhx2np6-OxwO"
   },
   "outputs": [],
   "source": [
    "#Dropping rows with null values\n",
    "NNdata= newdata.dropna()"
   ]
  },
  {
   "cell_type": "code",
   "execution_count": null,
   "metadata": {
    "colab": {
     "base_uri": "https://localhost:8080/"
    },
    "executionInfo": {
     "elapsed": 22,
     "status": "ok",
     "timestamp": 1648199953095,
     "user": {
      "displayName": "surya chand",
      "photoUrl": "https://lh3.googleusercontent.com/a-/AOh14Gg-Fme_28dmglLCT5AjJ1ON49RP3S6bdwnRY1C52w=s64",
      "userId": "05401613132802437293"
     },
     "user_tz": -330
    },
    "id": "f0etY3JlO5PS",
    "outputId": "d400f512-ef21-4579-a42d-ae33e604c88b"
   },
   "outputs": [],
   "source": [
    "#Checking if there are null values\n",
    "NNdata.isnull().sum()"
   ]
  },
  {
   "cell_type": "code",
   "execution_count": null,
   "metadata": {
    "colab": {
     "base_uri": "https://localhost:8080/"
    },
    "executionInfo": {
     "elapsed": 20,
     "status": "ok",
     "timestamp": 1648199953095,
     "user": {
      "displayName": "surya chand",
      "photoUrl": "https://lh3.googleusercontent.com/a-/AOh14Gg-Fme_28dmglLCT5AjJ1ON49RP3S6bdwnRY1C52w=s64",
      "userId": "05401613132802437293"
     },
     "user_tz": -330
    },
    "id": "4PvDZbFrPC-c",
    "outputId": "300c8a00-f3e5-4c17-8324-d70955e48f55"
   },
   "outputs": [],
   "source": [
    "#shape of new data\n",
    "NNdata.shape"
   ]
  },
  {
   "cell_type": "code",
   "execution_count": null,
   "metadata": {
    "colab": {
     "base_uri": "https://localhost:8080/"
    },
    "executionInfo": {
     "elapsed": 18,
     "status": "ok",
     "timestamp": 1648199953096,
     "user": {
      "displayName": "surya chand",
      "photoUrl": "https://lh3.googleusercontent.com/a-/AOh14Gg-Fme_28dmglLCT5AjJ1ON49RP3S6bdwnRY1C52w=s64",
      "userId": "05401613132802437293"
     },
     "user_tz": -330
    },
    "id": "z_Bw_L5aPe5W",
    "outputId": "3a8bd400-48a9-413a-d607-6944129a36ab"
   },
   "outputs": [],
   "source": [
    "#To check data types of all elements\n",
    "NNdata.dtypes"
   ]
  },
  {
   "cell_type": "code",
   "execution_count": null,
   "metadata": {
    "colab": {
     "base_uri": "https://localhost:8080/"
    },
    "executionInfo": {
     "elapsed": 15,
     "status": "ok",
     "timestamp": 1648199953096,
     "user": {
      "displayName": "surya chand",
      "photoUrl": "https://lh3.googleusercontent.com/a-/AOh14Gg-Fme_28dmglLCT5AjJ1ON49RP3S6bdwnRY1C52w=s64",
      "userId": "05401613132802437293"
     },
     "user_tz": -330
    },
    "id": "DPUf-5BmPmFC",
    "outputId": "f59939e2-42da-44ae-890f-19596d719adf"
   },
   "outputs": [],
   "source": [
    "#Unique values in Non NUll data size column\n",
    "NNdata['size'].unique()"
   ]
  },
  {
   "cell_type": "code",
   "execution_count": null,
   "metadata": {
    "colab": {
     "base_uri": "https://localhost:8080/",
     "height": 204
    },
    "executionInfo": {
     "elapsed": 13,
     "status": "ok",
     "timestamp": 1648199953096,
     "user": {
      "displayName": "surya chand",
      "photoUrl": "https://lh3.googleusercontent.com/a-/AOh14Gg-Fme_28dmglLCT5AjJ1ON49RP3S6bdwnRY1C52w=s64",
      "userId": "05401613132802437293"
     },
     "user_tz": -330
    },
    "id": "bmQQnHUKP_NC",
    "outputId": "6230b9a6-465d-4a50-87e0-cdef6cb09836"
   },
   "outputs": [],
   "source": [
    "#Adding new bhk column of int data type to convert string data type of size column\n",
    "NNdata['bhk'] = NNdata['size'].apply(lambda x: int(x.split(' ')[0]))\n",
    "Rdata['bhk'] = Rdata['size'].apply(lambda x: int(x.split(' ')[0]))\n",
    "NNdata.head()"
   ]
  },
  {
   "cell_type": "code",
   "execution_count": null,
   "metadata": {
    "colab": {
     "base_uri": "https://localhost:8080/",
     "height": 248
    },
    "executionInfo": {
     "elapsed": 12,
     "status": "ok",
     "timestamp": 1648199953096,
     "user": {
      "displayName": "surya chand",
      "photoUrl": "https://lh3.googleusercontent.com/a-/AOh14Gg-Fme_28dmglLCT5AjJ1ON49RP3S6bdwnRY1C52w=s64",
      "userId": "05401613132802437293"
     },
     "user_tz": -330
    },
    "id": "PkyxxJno3B5w",
    "outputId": "453b011d-1e75-4eb1-ceea-6bcb2f3a55fd"
   },
   "outputs": [],
   "source": [
    "#checking Retrieval data\n",
    "Rdata.head()"
   ]
  },
  {
   "cell_type": "code",
   "execution_count": null,
   "metadata": {
    "colab": {
     "base_uri": "https://localhost:8080/"
    },
    "executionInfo": {
     "elapsed": 11,
     "status": "ok",
     "timestamp": 1648199953096,
     "user": {
      "displayName": "surya chand",
      "photoUrl": "https://lh3.googleusercontent.com/a-/AOh14Gg-Fme_28dmglLCT5AjJ1ON49RP3S6bdwnRY1C52w=s64",
      "userId": "05401613132802437293"
     },
     "user_tz": -330
    },
    "id": "fetyh9QfQliK",
    "outputId": "e8e51a91-92a1-43e2-a7a2-19d0dd338a6b"
   },
   "outputs": [],
   "source": [
    "#Unique values in Non NUll data Total_sqft column\n",
    "\n",
    "NNdata['total_sqft'].unique()"
   ]
  },
  {
   "cell_type": "code",
   "execution_count": null,
   "metadata": {
    "executionInfo": {
     "elapsed": 8,
     "status": "ok",
     "timestamp": 1648199953096,
     "user": {
      "displayName": "surya chand",
      "photoUrl": "https://lh3.googleusercontent.com/a-/AOh14Gg-Fme_28dmglLCT5AjJ1ON49RP3S6bdwnRY1C52w=s64",
      "userId": "05401613132802437293"
     },
     "user_tz": -330
    },
    "id": "L73cQtI4R0Ic"
   },
   "outputs": [],
   "source": [
    "#All are string values and some even have a range which is to be corrected\n",
    "#lets define a function so that it can be reused for every row\n",
    "def convert_sqft_to_float(x):\n",
    "\n",
    "  tokens = x.split('-')\n",
    "  if len(tokens) == 2:\n",
    "    return(float(tokens[0])+float(tokens[1]))/2\n",
    "  try:\n",
    "    return float(x)\n",
    "  except:\n",
    "    return None\n",
    "            "
   ]
  },
  {
   "cell_type": "code",
   "execution_count": null,
   "metadata": {
    "executionInfo": {
     "elapsed": 605,
     "status": "ok",
     "timestamp": 1648199953694,
     "user": {
      "displayName": "surya chand",
      "photoUrl": "https://lh3.googleusercontent.com/a-/AOh14Gg-Fme_28dmglLCT5AjJ1ON49RP3S6bdwnRY1C52w=s64",
      "userId": "05401613132802437293"
     },
     "user_tz": -330
    },
    "id": "ws1VIDIySOFh"
   },
   "outputs": [],
   "source": [
    "#Applying the function to every row\n",
    "NNdata['total_sqft'] = NNdata['total_sqft'].apply(convert_sqft_to_float)\n",
    "Rdata['total_sqft'] = Rdata['total_sqft'].apply(convert_sqft_to_float)"
   ]
  },
  {
   "cell_type": "code",
   "execution_count": null,
   "metadata": {
    "executionInfo": {
     "elapsed": 12,
     "status": "ok",
     "timestamp": 1648199953695,
     "user": {
      "displayName": "surya chand",
      "photoUrl": "https://lh3.googleusercontent.com/a-/AOh14Gg-Fme_28dmglLCT5AjJ1ON49RP3S6bdwnRY1C52w=s64",
      "userId": "05401613132802437293"
     },
     "user_tz": -330
    },
    "id": "3L38Vg3gSdoQ"
   },
   "outputs": [],
   "source": [
    "#A function to check if there are any floats\n",
    "def is_float(x):\n",
    "   try:\n",
    "     float(x)\n",
    "   except:\n",
    "     return False\n",
    "   return True    "
   ]
  },
  {
   "cell_type": "code",
   "execution_count": null,
   "metadata": {
    "colab": {
     "base_uri": "https://localhost:8080/",
     "height": 49
    },
    "executionInfo": {
     "elapsed": 12,
     "status": "ok",
     "timestamp": 1648199953695,
     "user": {
      "displayName": "surya chand",
      "photoUrl": "https://lh3.googleusercontent.com/a-/AOh14Gg-Fme_28dmglLCT5AjJ1ON49RP3S6bdwnRY1C52w=s64",
      "userId": "05401613132802437293"
     },
     "user_tz": -330
    },
    "id": "FSkPB26CS2_B",
    "outputId": "e63b5c4f-fb90-448f-d8ed-c7ef57d61dc0"
   },
   "outputs": [],
   "source": [
    "NNdata[~NNdata['total_sqft'].apply(is_float)].head(12)\n"
   ]
  },
  {
   "cell_type": "code",
   "execution_count": null,
   "metadata": {
    "colab": {
     "base_uri": "https://localhost:8080/",
     "height": 204
    },
    "executionInfo": {
     "elapsed": 11,
     "status": "ok",
     "timestamp": 1648199953695,
     "user": {
      "displayName": "surya chand",
      "photoUrl": "https://lh3.googleusercontent.com/a-/AOh14Gg-Fme_28dmglLCT5AjJ1ON49RP3S6bdwnRY1C52w=s64",
      "userId": "05401613132802437293"
     },
     "user_tz": -330
    },
    "id": "_FpDbPBbS-M_",
    "outputId": "df3bbf67-f9ad-40d2-a58f-51af90ffedce"
   },
   "outputs": [],
   "source": [
    "# Creating a new column to find the price per sq-ft\n",
    "#We multiply the price here with 100000 since its in lakhs\n",
    "NNdata['Price_per_sqft'] = NNdata['price']*100000/NNdata['total_sqft']\n",
    "NNdata.head()"
   ]
  },
  {
   "cell_type": "code",
   "execution_count": null,
   "metadata": {
    "colab": {
     "base_uri": "https://localhost:8080/"
    },
    "executionInfo": {
     "elapsed": 11,
     "status": "ok",
     "timestamp": 1648199953695,
     "user": {
      "displayName": "surya chand",
      "photoUrl": "https://lh3.googleusercontent.com/a-/AOh14Gg-Fme_28dmglLCT5AjJ1ON49RP3S6bdwnRY1C52w=s64",
      "userId": "05401613132802437293"
     },
     "user_tz": -330
    },
    "id": "U-a_8WkoToik",
    "outputId": "ebae628b-648c-43b4-f3ca-471ab975139c"
   },
   "outputs": [],
   "source": [
    "#Refining location column so that all the locations with less no of properties can be categeorized to 1 so to avoid imporper training\n",
    "NNdata['location'].unique()"
   ]
  },
  {
   "cell_type": "code",
   "execution_count": null,
   "metadata": {
    "executionInfo": {
     "elapsed": 6,
     "status": "ok",
     "timestamp": 1648199953695,
     "user": {
      "displayName": "surya chand",
      "photoUrl": "https://lh3.googleusercontent.com/a-/AOh14Gg-Fme_28dmglLCT5AjJ1ON49RP3S6bdwnRY1C52w=s64",
      "userId": "05401613132802437293"
     },
     "user_tz": -330
    },
    "id": "mNGDSsVWVGAI"
   },
   "outputs": [],
   "source": [
    "#to remove any left spaces and right spaces in locations\n",
    "NNdata['location'] = NNdata['location'].apply(lambda x: x.strip())"
   ]
  },
  {
   "cell_type": "code",
   "execution_count": null,
   "metadata": {
    "colab": {
     "base_uri": "https://localhost:8080/"
    },
    "executionInfo": {
     "elapsed": 6,
     "status": "ok",
     "timestamp": 1648199953695,
     "user": {
      "displayName": "surya chand",
      "photoUrl": "https://lh3.googleusercontent.com/a-/AOh14Gg-Fme_28dmglLCT5AjJ1ON49RP3S6bdwnRY1C52w=s64",
      "userId": "05401613132802437293"
     },
     "user_tz": -330
    },
    "id": "VTfhH424VWLg",
    "outputId": "7b17d070-3761-4f0f-ce22-6d563531bbfa"
   },
   "outputs": [],
   "source": [
    "#To check count of no of rows for each location\n",
    "locations = NNdata.groupby('location')['location'].agg('count').sort_values(ascending=False)\n",
    "locations"
   ]
  },
  {
   "cell_type": "code",
   "execution_count": null,
   "metadata": {
    "executionInfo": {
     "elapsed": 7801,
     "status": "ok",
     "timestamp": 1648199961493,
     "user": {
      "displayName": "surya chand",
      "photoUrl": "https://lh3.googleusercontent.com/a-/AOh14Gg-Fme_28dmglLCT5AjJ1ON49RP3S6bdwnRY1C52w=s64",
      "userId": "05401613132802437293"
     },
     "user_tz": -330
    },
    "id": "ciG43Lo1Vgmw"
   },
   "outputs": [],
   "source": [
    "#lets group all the locations with very low numbers into others categeory\n",
    "NNdata['location'] = NNdata.location.apply(lambda x: 'other' if x in locations[locations<10] else x)"
   ]
  },
  {
   "cell_type": "code",
   "execution_count": null,
   "metadata": {
    "executionInfo": {
     "elapsed": 4,
     "status": "ok",
     "timestamp": 1648199961493,
     "user": {
      "displayName": "surya chand",
      "photoUrl": "https://lh3.googleusercontent.com/a-/AOh14Gg-Fme_28dmglLCT5AjJ1ON49RP3S6bdwnRY1C52w=s64",
      "userId": "05401613132802437293"
     },
     "user_tz": -330
    },
    "id": "2AyNGHmXWEr1"
   },
   "outputs": [],
   "source": [
    "#Removing exceptional houses with abnormally high bedroom size OUTLIERS\n",
    "NNdata=NNdata[~(NNdata['total_sqft']/NNdata['bhk']<300)]"
   ]
  },
  {
   "cell_type": "code",
   "execution_count": null,
   "metadata": {
    "colab": {
     "base_uri": "https://localhost:8080/"
    },
    "executionInfo": {
     "elapsed": 3,
     "status": "ok",
     "timestamp": 1648199961493,
     "user": {
      "displayName": "surya chand",
      "photoUrl": "https://lh3.googleusercontent.com/a-/AOh14Gg-Fme_28dmglLCT5AjJ1ON49RP3S6bdwnRY1C52w=s64",
      "userId": "05401613132802437293"
     },
     "user_tz": -330
    },
    "id": "eiu3Mh__XG-Y",
    "outputId": "a3000684-cc9e-40ce-e404-b5e51fcc8555"
   },
   "outputs": [],
   "source": [
    "NNdata.Price_per_sqft.describe()"
   ]
  },
  {
   "cell_type": "code",
   "execution_count": null,
   "metadata": {
    "executionInfo": {
     "elapsed": 1560,
     "status": "ok",
     "timestamp": 1648199963051,
     "user": {
      "displayName": "surya chand",
      "photoUrl": "https://lh3.googleusercontent.com/a-/AOh14Gg-Fme_28dmglLCT5AjJ1ON49RP3S6bdwnRY1C52w=s64",
      "userId": "05401613132802437293"
     },
     "user_tz": -330
    },
    "id": "8vcG9o8qXYhF"
   },
   "outputs": [],
   "source": [
    "#Since max price per sqft is abnormally high\n",
    "#we need to remove those outliers also\n",
    "def remove_pps_outliers(df):\n",
    "    df_out = pd.DataFrame()\n",
    "    for key, subdf in df.groupby('location'):\n",
    "        m = np.mean(subdf.Price_per_sqft)\n",
    "        st = np.std(subdf.Price_per_sqft)\n",
    "        reduced_df = subdf[(subdf.Price_per_sqft>(m-st)) & (subdf.Price_per_sqft<=(m+st))]\n",
    "        df_out = pd.concat([df_out, reduced_df],ignore_index=True)\n",
    "    return df_out \n",
    "\n",
    "NNdata= remove_pps_outliers(NNdata)  "
   ]
  },
  {
   "cell_type": "code",
   "execution_count": null,
   "metadata": {
    "colab": {
     "base_uri": "https://localhost:8080/",
     "height": 204
    },
    "executionInfo": {
     "elapsed": 26,
     "status": "ok",
     "timestamp": 1648199963054,
     "user": {
      "displayName": "surya chand",
      "photoUrl": "https://lh3.googleusercontent.com/a-/AOh14Gg-Fme_28dmglLCT5AjJ1ON49RP3S6bdwnRY1C52w=s64",
      "userId": "05401613132802437293"
     },
     "user_tz": -330
    },
    "id": "voZXirmNX9f7",
    "outputId": "cee271c9-041e-4b84-f892-67f564ab048b"
   },
   "outputs": [],
   "source": [
    "NNdata.head()"
   ]
  },
  {
   "cell_type": "code",
   "execution_count": null,
   "metadata": {
    "colab": {
     "base_uri": "https://localhost:8080/",
     "height": 204
    },
    "executionInfo": {
     "elapsed": 21,
     "status": "ok",
     "timestamp": 1648199963055,
     "user": {
      "displayName": "surya chand",
      "photoUrl": "https://lh3.googleusercontent.com/a-/AOh14Gg-Fme_28dmglLCT5AjJ1ON49RP3S6bdwnRY1C52w=s64",
      "userId": "05401613132802437293"
     },
     "user_tz": -330
    },
    "id": "BCkQ6lG4YSYT",
    "outputId": "843042d9-88b4-4d7a-cdd6-7bfdb8e864b0"
   },
   "outputs": [],
   "source": [
    "#Drop size column and price per sft column since sizer per sft can be calculated by total price /sft\n",
    "#and size since we already added bhk column\n",
    "NNdata =NNdata.drop(['size','Price_per_sqft'],axis='columns')\n",
    "NNdata.head()\n",
    "\n"
   ]
  },
  {
   "cell_type": "code",
   "execution_count": null,
   "metadata": {
    "colab": {
     "base_uri": "https://localhost:8080/"
    },
    "executionInfo": {
     "elapsed": 19,
     "status": "ok",
     "timestamp": 1648199963055,
     "user": {
      "displayName": "surya chand",
      "photoUrl": "https://lh3.googleusercontent.com/a-/AOh14Gg-Fme_28dmglLCT5AjJ1ON49RP3S6bdwnRY1C52w=s64",
      "userId": "05401613132802437293"
     },
     "user_tz": -330
    },
    "id": "14J8dwXmnXuP",
    "outputId": "704a23b5-b21d-4e03-e8ed-8fd65ff497db"
   },
   "outputs": [],
   "source": [
    "#To find correlation of features\n",
    "Cdata=NNdata.copy()\n",
    "#To conver location values to numeric\n",
    "from sklearn import preprocessing\n",
    "label_encoder = preprocessing.LabelEncoder()\n",
    "Corelationlist=Cdata.corr()['price'].abs().tolist()\n",
    "Cdata.corr()['price'].abs().sort_values(ascending=False)"
   ]
  },
  {
   "cell_type": "code",
   "execution_count": null,
   "metadata": {
    "colab": {
     "base_uri": "https://localhost:8080/",
     "height": 348
    },
    "executionInfo": {
     "elapsed": 10,
     "status": "ok",
     "timestamp": 1648199963055,
     "user": {
      "displayName": "surya chand",
      "photoUrl": "https://lh3.googleusercontent.com/a-/AOh14Gg-Fme_28dmglLCT5AjJ1ON49RP3S6bdwnRY1C52w=s64",
      "userId": "05401613132802437293"
     },
     "user_tz": -330
    },
    "id": "iHGX19eBaCgc",
    "outputId": "5cb8db9f-887d-4811-be57-04f90d8b7fe1"
   },
   "outputs": [],
   "source": [
    "#Use one hot encoding since it will be better while taking user inputs than standard scaler\n",
    "dummies = pd.get_dummies(NNdata.location)\n",
    "dummies.head()"
   ]
  },
  {
   "cell_type": "code",
   "execution_count": null,
   "metadata": {
    "colab": {
     "base_uri": "https://localhost:8080/",
     "height": 433
    },
    "executionInfo": {
     "elapsed": 9,
     "status": "ok",
     "timestamp": 1648199963056,
     "user": {
      "displayName": "surya chand",
      "photoUrl": "https://lh3.googleusercontent.com/a-/AOh14Gg-Fme_28dmglLCT5AjJ1ON49RP3S6bdwnRY1C52w=s64",
      "userId": "05401613132802437293"
     },
     "user_tz": -330
    },
    "id": "zQ29x71xaR6u",
    "outputId": "0f51080c-a576-412a-f9e8-b5ac2bd03b97"
   },
   "outputs": [],
   "source": [
    "NNdata= pd.concat([NNdata, dummies],axis=\"columns\")\n",
    "NNdata.head()"
   ]
  },
  {
   "cell_type": "code",
   "execution_count": null,
   "metadata": {
    "colab": {
     "base_uri": "https://localhost:8080/",
     "height": 348
    },
    "executionInfo": {
     "elapsed": 919,
     "status": "ok",
     "timestamp": 1648199963967,
     "user": {
      "displayName": "surya chand",
      "photoUrl": "https://lh3.googleusercontent.com/a-/AOh14Gg-Fme_28dmglLCT5AjJ1ON49RP3S6bdwnRY1C52w=s64",
      "userId": "05401613132802437293"
     },
     "user_tz": -330
    },
    "id": "EchcebysbNAz",
    "outputId": "6ec6f4ad-9092-4dd7-8846-4f7fcfe5600e"
   },
   "outputs": [],
   "source": [
    "#since other is having NUll values lets remove it also along with location column\n",
    "NNdata=NNdata.drop(['location'],axis='columns')\n",
    "NNdata.head()"
   ]
  },
  {
   "cell_type": "code",
   "execution_count": null,
   "metadata": {
    "colab": {
     "base_uri": "https://localhost:8080/"
    },
    "executionInfo": {
     "elapsed": 25,
     "status": "ok",
     "timestamp": 1648199963968,
     "user": {
      "displayName": "surya chand",
      "photoUrl": "https://lh3.googleusercontent.com/a-/AOh14Gg-Fme_28dmglLCT5AjJ1ON49RP3S6bdwnRY1C52w=s64",
      "userId": "05401613132802437293"
     },
     "user_tz": -330
    },
    "id": "aNtj93HGbzhu",
    "outputId": "ad65df1b-ff1c-4881-97c4-8eb28c31a7ca"
   },
   "outputs": [],
   "source": [
    "NNdata.shape"
   ]
  },
  {
   "cell_type": "code",
   "execution_count": null,
   "metadata": {
    "colab": {
     "base_uri": "https://localhost:8080/",
     "height": 534
    },
    "executionInfo": {
     "elapsed": 15,
     "status": "ok",
     "timestamp": 1648199963968,
     "user": {
      "displayName": "surya chand",
      "photoUrl": "https://lh3.googleusercontent.com/a-/AOh14Gg-Fme_28dmglLCT5AjJ1ON49RP3S6bdwnRY1C52w=s64",
      "userId": "05401613132802437293"
     },
     "user_tz": -330
    },
    "id": "Gdf49om4dmFi",
    "outputId": "78dba2b0-5a03-4ed4-f4bb-e017f4b16a09"
   },
   "outputs": [],
   "source": [
    "#Seperaring independent variables into X\n",
    "X =NNdata.drop(['price'], axis='columns')\n",
    "X"
   ]
  },
  {
   "cell_type": "code",
   "execution_count": null,
   "metadata": {
    "colab": {
     "base_uri": "https://localhost:8080/"
    },
    "executionInfo": {
     "elapsed": 13,
     "status": "ok",
     "timestamp": 1648199963968,
     "user": {
      "displayName": "surya chand",
      "photoUrl": "https://lh3.googleusercontent.com/a-/AOh14Gg-Fme_28dmglLCT5AjJ1ON49RP3S6bdwnRY1C52w=s64",
      "userId": "05401613132802437293"
     },
     "user_tz": -330
    },
    "id": "Z9S4eF8zd5hM",
    "outputId": "aa99b2f4-7cc4-4da3-df34-2c0e503d5487"
   },
   "outputs": [],
   "source": [
    "#dependent variables into Y\n",
    "Y =NNdata['price']\n",
    "Y"
   ]
  },
  {
   "cell_type": "code",
   "execution_count": null,
   "metadata": {
    "executionInfo": {
     "elapsed": 6,
     "status": "ok",
     "timestamp": 1648199963968,
     "user": {
      "displayName": "surya chand",
      "photoUrl": "https://lh3.googleusercontent.com/a-/AOh14Gg-Fme_28dmglLCT5AjJ1ON49RP3S6bdwnRY1C52w=s64",
      "userId": "05401613132802437293"
     },
     "user_tz": -330
    },
    "id": "GufMusJXeE8B"
   },
   "outputs": [],
   "source": [
    "#splitting into training and testing data\n",
    "from sklearn.model_selection import train_test_split\n",
    "X_train, X_test, y_train, y_test = train_test_split(X,Y,test_size=0.2, random_state=10)"
   ]
  },
  {
   "cell_type": "code",
   "execution_count": null,
   "metadata": {
    "executionInfo": {
     "elapsed": 7,
     "status": "ok",
     "timestamp": 1648199963969,
     "user": {
      "displayName": "surya chand",
      "photoUrl": "https://lh3.googleusercontent.com/a-/AOh14Gg-Fme_28dmglLCT5AjJ1ON49RP3S6bdwnRY1C52w=s64",
      "userId": "05401613132802437293"
     },
     "user_tz": -330
    },
    "id": "cjKLb1QreRSO"
   },
   "outputs": [],
   "source": [
    "#Testing with different algorithms\n",
    "All_Algos=[]\n"
   ]
  },
  {
   "cell_type": "code",
   "execution_count": null,
   "metadata": {
    "colab": {
     "base_uri": "https://localhost:8080/"
    },
    "executionInfo": {
     "elapsed": 2787,
     "status": "ok",
     "timestamp": 1648199966750,
     "user": {
      "displayName": "surya chand",
      "photoUrl": "https://lh3.googleusercontent.com/a-/AOh14Gg-Fme_28dmglLCT5AjJ1ON49RP3S6bdwnRY1C52w=s64",
      "userId": "05401613132802437293"
     },
     "user_tz": -330
    },
    "id": "iAAooqiJeYh0",
    "outputId": "b23f379c-5a23-4996-84b9-eeeb303f667c"
   },
   "outputs": [],
   "source": [
    "#1 linear regression\n",
    "from sklearn.model_selection import ShuffleSplit\n",
    "from sklearn.model_selection import cross_val_score\n",
    "from sklearn.linear_model import LinearRegression\n",
    "cv = ShuffleSplit(n_splits=5, test_size=0.2, random_state=0)\n",
    "LR= LinearRegression()\n",
    "LR.fit(X_train, y_train)\n",
    "LRA=LR.score(X_test,y_test)\n",
    "LRA=LRA*100\n",
    "CvLR=cross_val_score(LinearRegression(),X,Y, cv=cv)\n",
    "LRAvg=(sum(CvLR)/len(CvLR))*100\n",
    "print(\"Linear regression accuracy is\",LRA,\"\\n and the avg accuracy for linear regression after cross val is \",LRAvg )\n",
    "All_Algos.append([LRAvg,'LinearRegression'])\n",
    "print(\"added for comparison \")"
   ]
  },
  {
   "cell_type": "code",
   "execution_count": null,
   "metadata": {
    "colab": {
     "base_uri": "https://localhost:8080/"
    },
    "executionInfo": {
     "elapsed": 3563,
     "status": "ok",
     "timestamp": 1648199970306,
     "user": {
      "displayName": "surya chand",
      "photoUrl": "https://lh3.googleusercontent.com/a-/AOh14Gg-Fme_28dmglLCT5AjJ1ON49RP3S6bdwnRY1C52w=s64",
      "userId": "05401613132802437293"
     },
     "user_tz": -330
    },
    "id": "J3wm6eLgl7Sk",
    "outputId": "5f05412f-265a-4ca9-ffbe-3efb919c0e0e"
   },
   "outputs": [],
   "source": [
    "#2 Decision Tree\n",
    "from sklearn.tree import DecisionTreeRegressor\n",
    "DT= DecisionTreeRegressor(random_state=0)\n",
    "DT.fit(X_train, y_train)\n",
    "DTA=DT.score(X_test,y_test)\n",
    "DTA=DTA*100\n",
    "CvDT=cross_val_score(DecisionTreeRegressor(),X,Y, cv=cv)\n",
    "DTAvg=(sum(CvDT)/len(CvDT))*100\n",
    "print(\"Decision Tress Accuracy is\",DTA,\"\\n and the avg accuracy for Decision Tree after cross val is \",DTAvg )\n",
    "All_Algos.append([DTAvg,\"DecisionTree\"])\n",
    "print(\"added for comparison \")"
   ]
  },
  {
   "cell_type": "code",
   "execution_count": null,
   "metadata": {
    "colab": {
     "base_uri": "https://localhost:8080/"
    },
    "executionInfo": {
     "elapsed": 148111,
     "status": "ok",
     "timestamp": 1648200118411,
     "user": {
      "displayName": "surya chand",
      "photoUrl": "https://lh3.googleusercontent.com/a-/AOh14Gg-Fme_28dmglLCT5AjJ1ON49RP3S6bdwnRY1C52w=s64",
      "userId": "05401613132802437293"
     },
     "user_tz": -330
    },
    "id": "zZ8vXICjwKgS",
    "outputId": "c8f63d62-66d3-44dd-f64a-8e600c105921"
   },
   "outputs": [],
   "source": [
    "#3 MLP regressor\n",
    "from sklearn.neural_network import MLPRegressor\n",
    "MLPR= MLPRegressor(random_state=1, max_iter=500)\n",
    "MLPR.fit(X_train, y_train)\n",
    "MLPRA=MLPR.score(X_test,y_test)\n",
    "MLPRA=MLPRA*100\n",
    "CvMLPR=cross_val_score(MLPRegressor(random_state=1, max_iter=500),X,Y, cv=cv)\n",
    "MLPRAvg=(sum(CvMLPR)/len(CvMLPR))*100\n",
    "print(\"MLPRegressor Accuracy is\",MLPRA,\"\\n and the avg accuracy for MLPRegressor after cross val is \",MLPRAvg )\n",
    "All_Algos.append([MLPRAvg,\"MLPRegressor\"])\n",
    "print(\"added for comparison \")"
   ]
  },
  {
   "cell_type": "code",
   "execution_count": null,
   "metadata": {
    "colab": {
     "base_uri": "https://localhost:8080/"
    },
    "executionInfo": {
     "elapsed": 686,
     "status": "ok",
     "timestamp": 1648200119092,
     "user": {
      "displayName": "surya chand",
      "photoUrl": "https://lh3.googleusercontent.com/a-/AOh14Gg-Fme_28dmglLCT5AjJ1ON49RP3S6bdwnRY1C52w=s64",
      "userId": "05401613132802437293"
     },
     "user_tz": -330
    },
    "id": "uCUrI6KSxhsf",
    "outputId": "ab12aa88-b74b-45cc-b47c-3662f21b8e75"
   },
   "outputs": [],
   "source": [
    "#4 Ridge regression\n",
    "from sklearn.linear_model import Ridge\n",
    "RR= Ridge(alpha=1.0)\n",
    "RR.fit(X_train, y_train)\n",
    "RRA=RR.score(X_test,y_test)\n",
    "RRA=RRA*100\n",
    "CvRR=cross_val_score(Ridge(alpha=1.0),X,Y, cv=cv)\n",
    "RRAvg=(sum(CvRR)/len(CvRR))*100\n",
    "print(\"MLPRegressor Accuracy is\",RRA,\"\\n and the avg accuracy for MLPRegressor after cross val is \",RRAvg )\n",
    "All_Algos.append([RRAvg,\"RRegressor\"])\n",
    "print(\"added for comparison \")"
   ]
  },
  {
   "cell_type": "code",
   "execution_count": null,
   "metadata": {
    "colab": {
     "base_uri": "https://localhost:8080/"
    },
    "executionInfo": {
     "elapsed": 1430,
     "status": "ok",
     "timestamp": 1648200120519,
     "user": {
      "displayName": "surya chand",
      "photoUrl": "https://lh3.googleusercontent.com/a-/AOh14Gg-Fme_28dmglLCT5AjJ1ON49RP3S6bdwnRY1C52w=s64",
      "userId": "05401613132802437293"
     },
     "user_tz": -330
    },
    "id": "uJDp62sMzVFo",
    "outputId": "a0d812e7-645e-4022-9768-09c6f7e74779"
   },
   "outputs": [],
   "source": [
    "#5 Linear model Lasso Regression\n",
    "from sklearn import linear_model\n",
    "LMLR=linear_model.Lasso(alpha=0.1)\n",
    "LMLR.fit(X_train, y_train)\n",
    "LMLRA=LMLR.score(X_test,y_test)\n",
    "LMLRA=LMLRA*100\n",
    "CvLMLR=cross_val_score(linear_model.Lasso(alpha=0.1),X,Y, cv=cv)\n",
    "LMLRAvg=(sum(CvLMLR)/len(CvLMLR))*100\n",
    "print(\"LassoRegressor Accuracy is\",LMLRA,\"\\n and the avg accuracy for LassoRegressor after cross val is \",LMLRAvg )\n",
    "All_Algos.append([LMLRAvg,\"LassoRegressor\"])\n",
    "print(\"added for comparison \")\n"
   ]
  },
  {
   "cell_type": "code",
   "execution_count": null,
   "metadata": {
    "colab": {
     "base_uri": "https://localhost:8080/"
    },
    "executionInfo": {
     "elapsed": 26066,
     "status": "ok",
     "timestamp": 1648200146582,
     "user": {
      "displayName": "surya chand",
      "photoUrl": "https://lh3.googleusercontent.com/a-/AOh14Gg-Fme_28dmglLCT5AjJ1ON49RP3S6bdwnRY1C52w=s64",
      "userId": "05401613132802437293"
     },
     "user_tz": -330
    },
    "id": "7pcFIvFj00V4",
    "outputId": "cf277edd-62b7-45f4-b02d-527159f394d1"
   },
   "outputs": [],
   "source": [
    "#6 Random Forest\n",
    "from sklearn.ensemble import RandomForestRegressor\n",
    "RF= RandomForestRegressor(max_depth=10, random_state=0)\n",
    "RF.fit(X_train, y_train)\n",
    "RFA=RF.score(X_test,y_test)\n",
    "RFA=RFA*100\n",
    "CvRF=cross_val_score(RandomForestRegressor(max_depth=10, random_state=0),X,Y, cv=cv)\n",
    "RFAvg=(sum(CvRF)/len(CvRF))*100\n",
    "print(\"RandomForest Accuracy is\",RFA,\"\\n and the avg accuracy for RandomForest after cross val is \",RFAvg )\n",
    "All_Algos.append([RFAvg,\"RandomForest\"])\n",
    "print(\"added for comparison \")\n"
   ]
  },
  {
   "cell_type": "code",
   "execution_count": null,
   "metadata": {
    "colab": {
     "base_uri": "https://localhost:8080/"
    },
    "executionInfo": {
     "elapsed": 4344,
     "status": "ok",
     "timestamp": 1648200150922,
     "user": {
      "displayName": "surya chand",
      "photoUrl": "https://lh3.googleusercontent.com/a-/AOh14Gg-Fme_28dmglLCT5AjJ1ON49RP3S6bdwnRY1C52w=s64",
      "userId": "05401613132802437293"
     },
     "user_tz": -330
    },
    "id": "e8rCStJt5D-1",
    "outputId": "cb435c9e-5a43-4cf9-8bca-dc2e3af83ddb"
   },
   "outputs": [],
   "source": [
    "#7KNNRegressor\n",
    "from sklearn.neighbors import KNeighborsRegressor\n",
    "KNN= KNeighborsRegressor(n_neighbors=4)\n",
    "KNN.fit(X_train, y_train)\n",
    "KNNA=KNN.score(X_test,y_test)\n",
    "KNNA=KNNA*100\n",
    "CvKNN=cross_val_score(KNeighborsRegressor(n_neighbors=4),X,Y, cv=cv)\n",
    "KNNAvg=(sum(CvKNN)/len(CvKNN))*100\n",
    "print(\"KNNRegressor Accuracy is\",KNNA,\"\\n and the avg accuracy for KNNRegressor after cross val is \",KNNAvg )\n",
    "All_Algos.append([KNNAvg,\"KNNRegressor\"])\n",
    "print(\"added for comparison \")"
   ]
  },
  {
   "cell_type": "code",
   "execution_count": null,
   "metadata": {
    "colab": {
     "base_uri": "https://localhost:8080/"
    },
    "executionInfo": {
     "elapsed": 63,
     "status": "ok",
     "timestamp": 1648200150922,
     "user": {
      "displayName": "surya chand",
      "photoUrl": "https://lh3.googleusercontent.com/a-/AOh14Gg-Fme_28dmglLCT5AjJ1ON49RP3S6bdwnRY1C52w=s64",
      "userId": "05401613132802437293"
     },
     "user_tz": -330
    },
    "id": "A6Lo5Yh_ebQu",
    "outputId": "255ba4e7-8b1b-4c98-d69c-134ab9325928"
   },
   "outputs": [],
   "source": [
    "#To find out the best Accuracy algorithm\n",
    "Best=sorted(All_Algos)[::-1][0]\n",
    "All_Names=['LinearRegression',\"DecisionTree\",\"MLPRegressor\",\"RRegressor\",'LassoRegressor',\"RandomForest\",\"KNNRegressor\"]\n",
    "All_models=[LR,DT,MLPR,RR,LMLR,RF,KNN]\n",
    "BA=All_models[All_Names.index(Best[1])]\n",
    "print(Best[1],\"is best algorithm with vg accuracy\",Best[0])\n",
    "print(\"The selected model is \",BA)"
   ]
  },
  {
   "cell_type": "code",
   "execution_count": null,
   "metadata": {
    "executionInfo": {
     "elapsed": 60,
     "status": "ok",
     "timestamp": 1648200150922,
     "user": {
      "displayName": "surya chand",
      "photoUrl": "https://lh3.googleusercontent.com/a-/AOh14Gg-Fme_28dmglLCT5AjJ1ON49RP3S6bdwnRY1C52w=s64",
      "userId": "05401613132802437293"
     },
     "user_tz": -330
    },
    "id": "4VDcTKWPjCiy"
   },
   "outputs": [],
   "source": [
    "#Function to predict values\n",
    "def predict_price(location, sqft,bath, bhk):\n",
    "  \n",
    "  try:\n",
    "    loc_index=np.where(X.columns==location)[0][0]\n",
    "    x = np.zeros(len(X.columns))\n",
    "    x[0] = sqft\n",
    "    x[1] = bath\n",
    "    x[2] = bhk\n",
    "    if loc_index >= 0 :\n",
    "      x[loc_index] = 1 \n",
    "    return BA.predict([x])[0]\n",
    "  except:\n",
    "    print(\"please check inputs\")\n",
    "    return 0  "
   ]
  },
  {
   "cell_type": "code",
   "execution_count": null,
   "metadata": {
    "colab": {
     "base_uri": "https://localhost:8080/"
    },
    "executionInfo": {
     "elapsed": 15692,
     "status": "ok",
     "timestamp": 1648200166612,
     "user": {
      "displayName": "surya chand",
      "photoUrl": "https://lh3.googleusercontent.com/a-/AOh14Gg-Fme_28dmglLCT5AjJ1ON49RP3S6bdwnRY1C52w=s64",
      "userId": "05401613132802437293"
     },
     "user_tz": -330
    },
    "id": "feIHH2kUjw1Q",
    "outputId": "0e2bd357-b5cc-469a-b884-307eab4e1a79"
   },
   "outputs": [],
   "source": [
    "1#To take inputs\n",
    "pred=0\n",
    "while(pred==0):\n",
    "  try:\n",
    "    l=str(input(\"Enter the location\"))\n",
    "    s=int(input(\"Enter required sq ft\"))\n",
    "    b=int(input(\"enter no of bathrooms\"))\n",
    "    bh=int(input(\"enter the no of bedrooms\"))\n",
    "    pred=predict_price(l,s,b,bh)\n",
    "  except:\n",
    "    print(\"Please check input data type\")  \n",
    "print(\"The predicted price for this loaction is \",pred*100000,\"₹\")  \n"
   ]
  },
  {
   "cell_type": "markdown",
   "metadata": {
    "id": "Kt5gEt7-_mGv"
   },
   "source": [
    "**Prediction done, Now to retrieve and show data to the user based on the given data set**\n",
    "\n",
    "\n"
   ]
  },
  {
   "cell_type": "code",
   "execution_count": null,
   "metadata": {
    "colab": {
     "base_uri": "https://localhost:8080/",
     "height": 316
    },
    "executionInfo": {
     "elapsed": 55,
     "status": "ok",
     "timestamp": 1648200166613,
     "user": {
      "displayName": "surya chand",
      "photoUrl": "https://lh3.googleusercontent.com/a-/AOh14Gg-Fme_28dmglLCT5AjJ1ON49RP3S6bdwnRY1C52w=s64",
      "userId": "05401613132802437293"
     },
     "user_tz": -330
    },
    "id": "TYkzeYV83wee",
    "outputId": "7f119fb7-b351-4c9a-9640-f2c3baa60deb"
   },
   "outputs": [],
   "source": [
    "#To check retrieval Data\n",
    "Rdata['price']=Rdata[\"price\"]*100000\n",
    "Rdata.head()"
   ]
  },
  {
   "cell_type": "code",
   "execution_count": null,
   "metadata": {
    "colab": {
     "base_uri": "https://localhost:8080/",
     "height": 206
    },
    "executionInfo": {
     "elapsed": 12751,
     "status": "ok",
     "timestamp": 1648200179360,
     "user": {
      "displayName": "surya chand",
      "photoUrl": "https://lh3.googleusercontent.com/a-/AOh14Gg-Fme_28dmglLCT5AjJ1ON49RP3S6bdwnRY1C52w=s64",
      "userId": "05401613132802437293"
     },
     "user_tz": -330
    },
    "id": "9vMGKHjwRcOV",
    "outputId": "bcf5a86e-d35c-4e2d-f074-bf0800edd744"
   },
   "outputs": [],
   "source": [
    "#The list of properties close to given size and in specified  place, with required  bedrooms and bathrooms specifications\n",
    "Fa=int(input(\"enter range of change in area thats ok for user\"))\n",
    "List_of_all_properties_with_specs=Rdata[(Rdata['location']==l)&(Rdata['bhk']==bh)&(Rdata['bath']==b)&(Rdata['total_sqft']<=(s+Fa))&(Rdata['total_sqft']>=(s-Fa))]\n",
    "List_of_all_properties_with_specs"
   ]
  },
  {
   "cell_type": "code",
   "execution_count": null,
   "metadata": {
    "colab": {
     "base_uri": "https://localhost:8080/",
     "height": 141
    },
    "executionInfo": {
     "elapsed": 50,
     "status": "ok",
     "timestamp": 1648200179361,
     "user": {
      "displayName": "surya chand",
      "photoUrl": "https://lh3.googleusercontent.com/a-/AOh14Gg-Fme_28dmglLCT5AjJ1ON49RP3S6bdwnRY1C52w=s64",
      "userId": "05401613132802437293"
     },
     "user_tz": -330
    },
    "id": "8ca1ILjMkzM0",
    "outputId": "b030c0f1-c307-4dd1-923f-6aaf8aea4735"
   },
   "outputs": [],
   "source": [
    "#Returning all the ready to move into properties in specified area with price less than or equal to predicted price\n",
    "Predicted_Price_per_sqft=(pred*100000)/s\n",
    "List_of_all_properties_ready_to_move_with_predicted_ppsft=List_of_all_properties_with_specs[(List_of_all_properties_with_specs['availability']==\"Ready To Move\")&((List_of_all_properties_with_specs['price'])<=(List_of_all_properties_with_specs['total_sqft']*Predicted_Price_per_sqft))]\n",
    "List_of_all_properties_ready_to_move_with_predicted_ppsft"
   ]
  },
  {
   "cell_type": "code",
   "execution_count": null,
   "metadata": {
    "colab": {
     "base_uri": "https://localhost:8080/",
     "height": 124
    },
    "executionInfo": {
     "elapsed": 421,
     "status": "ok",
     "timestamp": 1648200712300,
     "user": {
      "displayName": "surya chand",
      "photoUrl": "https://lh3.googleusercontent.com/a-/AOh14Gg-Fme_28dmglLCT5AjJ1ON49RP3S6bdwnRY1C52w=s64",
      "userId": "05401613132802437293"
     },
     "user_tz": -330
    },
    "id": "sZ6wNuquaYB0",
    "outputId": "1cee7f46-a0be-4fdc-ea26-880fe56bdf3a"
   },
   "outputs": [],
   "source": [
    "#To return all properties which are over priced\n",
    "List_of_all_properties_over_priced=List_of_all_properties_with_specs[((List_of_all_properties_with_specs['price'])>(List_of_all_properties_with_specs['total_sqft']*Predicted_Price_per_sqft))]\n",
    "List_of_all_properties_over_priced"
   ]
  },
  {
   "cell_type": "code",
   "execution_count": null,
   "metadata": {
    "executionInfo": {
     "elapsed": 47,
     "status": "ok",
     "timestamp": 1648200179361,
     "user": {
      "displayName": "surya chand",
      "photoUrl": "https://lh3.googleusercontent.com/a-/AOh14Gg-Fme_28dmglLCT5AjJ1ON49RP3S6bdwnRY1C52w=s64",
      "userId": "05401613132802437293"
     },
     "user_tz": -330
    },
    "id": "cGqY-aSXME_S"
   },
   "outputs": [],
   "source": [
    "#Check dummies columns for all location names\n",
    "Locs=list(dummies.columns)"
   ]
  },
  {
   "cell_type": "code",
   "execution_count": null,
   "metadata": {
    "colab": {
     "base_uri": "https://localhost:8080/"
    },
    "executionInfo": {
     "elapsed": 332432,
     "status": "ok",
     "timestamp": 1648200511747,
     "user": {
      "displayName": "surya chand",
      "photoUrl": "https://lh3.googleusercontent.com/a-/AOh14Gg-Fme_28dmglLCT5AjJ1ON49RP3S6bdwnRY1C52w=s64",
      "userId": "05401613132802437293"
     },
     "user_tz": -330
    },
    "id": "AJmDdG9SRmuw",
    "outputId": "4bcec25b-69d5-4fe0-e0e5-be6e9d93c07a"
   },
   "outputs": [],
   "source": [
    "#user inputs the area,bedrooms,bathrooms and his budget and areas he can afford are shown\n",
    "budget=int(input(\"Enter the budget\"))\n",
    "Locations_in_budget=[]\n",
    "for i in Locs:\n",
    "  pred1=predict_price(i,s,b,bh)\n",
    "  if((pred1*100000)<=budget):\n",
    "    Locations_in_budget.append(i)\n",
    "    print(i)\n",
    "print(\"No of areas in budget =\",len(Locations_in_budget))    "
   ]
  },
  {
   "cell_type": "code",
   "execution_count": null,
   "metadata": {
    "colab": {
     "base_uri": "https://localhost:8080/",
     "height": 633
    },
    "executionInfo": {
     "elapsed": 19,
     "status": "ok",
     "timestamp": 1648200511748,
     "user": {
      "displayName": "surya chand",
      "photoUrl": "https://lh3.googleusercontent.com/a-/AOh14Gg-Fme_28dmglLCT5AjJ1ON49RP3S6bdwnRY1C52w=s64",
      "userId": "05401613132802437293"
     },
     "user_tz": -330
    },
    "id": "b-oApJiuR6o3",
    "outputId": "80d40709-1160-4aa1-8d86-9fd8d4315262"
   },
   "outputs": [],
   "source": [
    "#returning all the properties with specified parameters with price less than or equal to budget\n",
    "List_of_all_properties_with_specs_in_budget_locations=Rdata[(Rdata['location'].isin(Locations_in_budget))&(Rdata['bhk']==bh)&(Rdata['bath']==b)&(Rdata['total_sqft']<=(s+Fa))&(Rdata['total_sqft']>=(s-Fa))&(Rdata['price']<=budget)]\n",
    "List_of_all_properties_with_specs_in_budget_locations"
   ]
  },
  {
   "cell_type": "code",
   "execution_count": null,
   "metadata": {},
   "outputs": [],
   "source": []
  }
 ],
 "metadata": {
  "colab": {
   "authorship_tag": "ABX9TyP3FGWl3PbtWAi14BILX/Qj",
   "collapsed_sections": [],
   "name": "Real estate price predictions.ipynb",
   "provenance": []
  },
  "kernelspec": {
   "display_name": "Python 3 (ipykernel)",
   "language": "python",
   "name": "python3"
  },
  "language_info": {
   "codemirror_mode": {
    "name": "ipython",
    "version": 3
   },
   "file_extension": ".py",
   "mimetype": "text/x-python",
   "name": "python",
   "nbconvert_exporter": "python",
   "pygments_lexer": "ipython3",
   "version": "3.9.10"
  }
 },
 "nbformat": 4,
 "nbformat_minor": 1
}
